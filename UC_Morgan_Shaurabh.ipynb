{
 "cells": [
  {
   "cell_type": "markdown",
   "metadata": {},
   "source": [
    "# Assignment 1 -- Unit Commitment\n",
    "## Optimisation\n",
    "### Morgan Reilly, Shaurabh Kumar Singh \n",
    "### 20235398, (student number Shurabh)"
   ]
  },
  {
   "cell_type": "markdown",
   "metadata": {},
   "source": [
    "### References\n",
    "* https://www.coursera.org/lecture/python-analysis/tabular-data-as-a-nested-list-57msf"
   ]
  },
  {
   "cell_type": "code",
   "execution_count": 1,
   "metadata": {},
   "outputs": [],
   "source": [
    "from ortools.linear_solver import pywraplp\n",
    "import pandas as pd\n",
    "import csv\n",
    "import numpy as np"
   ]
  },
  {
   "cell_type": "code",
   "execution_count": 2,
   "metadata": {},
   "outputs": [],
   "source": [
    "# Instantiate Solver\n",
    "solver = pywraplp.Solver('Generator', pywraplp.Solver.GLOP_LINEAR_PROGRAMMING)"
   ]
  },
  {
   "cell_type": "markdown",
   "metadata": {},
   "source": [
    "### Decision Variables\n",
    "* In a small country there are 10 generators of four types: Hydroelectric, Solid fuel, Gas, Solar.\n",
    "* Each generator has a lower and upper bound on its production per hour (in MW/h). Between these bounds, production is not limited to discrete levels. \n",
    "* Each generator also has a cost for producing each MW, and produces a certain amount of CO2 per MW."
   ]
  },
  {
   "cell_type": "markdown",
   "metadata": {},
   "source": [
    "<!-- Variables -->\n",
    "$\\underline{\\textbf{Variables}}$\n",
    "<br><br>\n",
    "$x$ -> $x^{H} = generators$ \n",
    "<br>\n",
    "$y$ -> $y^{H} = hour$\n",
    "<br><br>\n",
    "$A_{y} = $ Energy produced by Hydro Generator $A$ in $y^{h}$ hours<br>\n",
    "$B_{y} = $ Energy produced by Hydro Generator $B$ in $y^{h}$ hours<br>\n",
    "$C_{y} = $ Energy produced by Hydro Generator $C$ in $y^{h}$ hours<br>\n",
    "$D_{y} = $ Energy produced by Hydro Generator $D$ in $y^{h}$ hours<br>\n",
    "$E_{y} = $ Energy produced by Solid Generator $E$ in $y^{h}$ hours<br>\n",
    "$F_{y} = $ Energy produced by Solid Generator $F$ in $y^{h}$ hours<br>\n",
    "$G_{y} = $ Energy produced by Solid Generator $G$ in $y^{h}$ hours<br>\n",
    "$H_{y} = $ Energy produced by Gas Generator $H$ in $y^{h}$ hours<br>\n",
    "$I_{y} = $ Energy produced by Solar Generator $I$ in $y^{h}$ hours<br>\n",
    "$J_{y} = $ Energy produced by Solar Generator $J$ in $y^{h}$ hours<br>\n",
    "\n",
    "<!-- Constraints -->\n",
    "$\\underline{\\textbf{Constraints}}$\n",
    "<br><br>\n",
    "$ \\sum_{i=1}^{10} P_{i}\\times C_{i} = Demand[j] $ \n",
    "<br><br>\n",
    "&nbsp;&nbsp;&nbsp;&nbsp; $ where:$\n",
    "* ${i} = A, B, C,..., J$ -> $Generators$\n",
    "* ${j} = 1, 2, 3,..., 24$ -> $Hours$\n",
    "* $P = P_{1},..., P_{10}$ -> $Power$\n",
    "* $C = C_{1},..., C_{10}$ -> $Cost$\n",
    "* $T = T_{1},..., T_{24}$ -> $Time$\n",
    "\n",
    "<br>\n",
    "$Non-Solar$ $Generators:$<br><br>&nbsp;&nbsp;&nbsp;&nbsp;\n",
    "$Lower$ $Bound[i] \\leqslant E_{i}{j} \\leqslant Upper$ $Bound[i]$\n",
    "<br><br>\n",
    "$Solar$ $Generators:$<br><br>&nbsp;&nbsp;&nbsp;&nbsp;\n",
    "$Lower$ $Bound[i] \\leqslant E_{i}{j} \\leqslant Upper$ $Bound[i]\\times Solar$ $Curve[j]$\n",
    "\n",
    "<br><br>\n",
    "<br>\n",
    "$ \\int_{100}^{10} \\! A\\times{1.4} + \n",
    "    \\int_{80}^{10} \\! B\\times{1.4} +\n",
    "    \\int_{60}^{10} \\! C\\times{1.4} +\n",
    "    \\int_{10}^{1} \\! D\\times{1.4} +\n",
    "    \\int_{900}^{100} \\! E\\times{4.4} +\n",
    "    \\int_{600}^{100} \\! F\\times{4.4} +\n",
    "    \\int_{100}^{10} \\! G\\times{4.4} +\n",
    "    \\int_{400}^{100} \\! H\\times{9.1} +\n",
    "    \\int_{70}^{0} \\! I\\times{6.6} +\n",
    "    \\int_{20}^{0} \\! J\\times{6.6} \\leqslant Minimum\n",
    "$ <br>\n",
    "\n",
    "<!-- Objective Function -->\n",
    "$\\underline{\\textbf{Objective Function}}$\n",
    "<br><br>\n",
    "$Minimise$&nbsp;$Cost:$ <br><br>&nbsp;&nbsp;&nbsp;&nbsp;\n",
    "$ \\sum_{i=A}^{J} (E_{i}{j}\\times C_{i})\\times C_{i}$&nbsp;&nbsp;&nbsp;$\\forall$ &nbsp; ${[j = 1,...,24]} $\n",
    "\n",
    "<br><br>\n",
    "* From $1^{st}$ to $6^{th}$ hour:\n",
    "    * $Hydro$:\n",
    "        * $H_{1}$, $H_{2}$, $H_{3}$, $H_{4}$\n",
    "    * $Solid$:\n",
    "        * $Solid_{1}$, $Solid_{2}$, $Solid_{3}$\n",
    "    * $Gas$:\n",
    "        * $G_{1}$\n",
    "    * $Solar$:\n",
    "        * $Solar_{1}$, $Solar_{2}$\n",
    "<br><br>"
   ]
  },
  {
   "cell_type": "code",
   "execution_count": 15,
   "metadata": {},
   "outputs": [],
   "source": [
    "#Read the generator.csv file\n",
    "with open('generator_info.csv', newline='') as f:\n",
    "    reader = csv.reader(f)\n",
    "    generators = [tuple(row) for row in reader]\n",
    "\n",
    "format_string = \"{:<8} {:>15} {:>15} {:>15} {:>15} {:>15}\"\n",
    "\n",
    "#Display of Generators table\n",
    "headers = generators[0]\n",
    "header_row = format_string.format(*headers)\n",
    "#print(header_row)\n",
    "#print(\"-\" * len(header_row))\n",
    "\n",
    "# Verify correct load\n",
    "# for gen in generators[:]:\n",
    "#     print(format_string.format(*gen))"
   ]
  },
  {
   "cell_type": "code",
   "execution_count": 16,
   "metadata": {},
   "outputs": [],
   "source": [
    "#Read the Demand.csv file\n",
    "with open('demand.csv', newline='') as f:\n",
    "    reader = csv.reader(f)\n",
    "    demands = [tuple(row) for row in reader]\n",
    "format_string_demand = \"{:<8}\"\n",
    "\n",
    "# Verify correct load\n",
    "# for demand in demands[:]:\n",
    "#     print(format_string_demand.format(*demand))"
   ]
  },
  {
   "cell_type": "code",
   "execution_count": 17,
   "metadata": {},
   "outputs": [],
   "source": [
    "#Read the Solar Curve.csv file\n",
    "with open('solar_curve.csv', newline='') as f:\n",
    "    reader = csv.reader(f)\n",
    "    solar_values = [tuple(row) for row in reader]\n",
    "format_string_solar = \"{:<8}\"\n",
    "\n",
    "# Verify Output\n",
    "# for solar_value in solar_values[:]:\n",
    "#     print(format_string_solar.format(*solar_value))"
   ]
  },
  {
   "cell_type": "code",
   "execution_count": 6,
   "metadata": {},
   "outputs": [],
   "source": [
    "#Function to find specified row in specified table\n",
    "def find_row(table, row):\n",
    "    for idx in range(len(table)):\n",
    "        if table[idx][0] == row:\n",
    "            return idx\n",
    "    return -1\n",
    "\n",
    "#Function to find specified column in specified table\n",
    "def find_col(table, col):\n",
    "    return table[1:].index(col)\n",
    "\n",
    "#idxCost = find_col(generators, 3)\n",
    "#idxE = find_row(generators, 5)\n",
    "\n",
    "#print(generators[idxE][idxCost])"
   ]
  },
  {
   "cell_type": "code",
   "execution_count": 7,
   "metadata": {},
   "outputs": [],
   "source": [
    "# Previously Code...\n",
    "\n",
    "#print(generator_count)\n",
    "#print(demand_count)\n",
    "#x = [[None]*(demand_count)]*(demand_count)\n",
    "#for i in range(1, generator_count):\n",
    "#    for j in range(1, demand_count +1):\n",
    "\n",
    "# for i in range(0, generator_count): #1 to 10 \n",
    "#     for j in range(demand_count): #1 to 24\n",
    "#         if generators[i][1] == \"hydro\" or generators[i][1] == \"gas\":\n",
    "#             x[i][j] = solver.NumVar(float(generators[i][2]), float(generators[i][3]), \"x[\" + str(i) + \"][\" + str(j) + \"]\")\n",
    "#             print(x[i][j] + \"Hydro or Gas\" + generators[i][0])\n",
    "#         elif generators[i][1] == \"solar\":\n",
    "#             x[i][j] = solver.NumVar(float(generators[i][2]), float(generators[i][3])*float(solar_values[j-1][0]), \"x[\" + str(i) + \"][\" + str(j) + \"]\")\n",
    "#             print(x[i][j] + \"Solar\"+ generators[i][0])\n",
    "#         elif generators[i][1] == \"solid\":\n",
    "#             x[i][1] = solver.NumVar(float(generators[i][2]), float(generators[i][3]), \"x[\" + str(i) + \"][\" + str(j) + \"]\")\n",
    "#             print(x[i][j] + \"solid\"+ generators[i][0])"
   ]
  },
  {
   "cell_type": "code",
   "execution_count": 19,
   "metadata": {
    "scrolled": true
   },
   "outputs": [
    {
     "name": "stdout",
     "output_type": "stream",
     "text": [
      "generator count: 10\n",
      "demand count: 24\n",
      "[[0, 0, 0, 0, 0, 0, 0, 0, 0, 0, 0, 0, 0, 0, 0, 0, 0, 0, 0, 0, 0, 0, 0, 0, 0], [0, x[1][1], x[1][2], x[1][3], x[1][4], x[1][5], x[1][6], x[1][7], x[1][8], x[1][9], x[1][10], x[1][11], x[1][12], x[1][13], x[1][14], x[1][15], x[1][16], x[1][17], x[1][18], x[1][19], x[1][20], x[1][21], x[1][22], x[1][23], x[1][24]], [0, x[2][1], x[2][2], x[2][3], x[2][4], x[2][5], x[2][6], x[2][7], x[2][8], x[2][9], x[2][10], x[2][11], x[2][12], x[2][13], x[2][14], x[2][15], x[2][16], x[2][17], x[2][18], x[2][19], x[2][20], x[2][21], x[2][22], x[2][23], x[2][24]], [0, x[3][1], x[3][2], x[3][3], x[3][4], x[3][5], x[3][6], x[3][7], x[3][8], x[3][9], x[3][10], x[3][11], x[3][12], x[3][13], x[3][14], x[3][15], x[3][16], x[3][17], x[3][18], x[3][19], x[3][20], x[3][21], x[3][22], x[3][23], x[3][24]], [0, x[4][1], x[4][2], x[4][3], x[4][4], x[4][5], x[4][6], x[4][7], x[4][8], x[4][9], x[4][10], x[4][11], x[4][12], x[4][13], x[4][14], x[4][15], x[4][16], x[4][17], x[4][18], x[4][19], x[4][20], x[4][21], x[4][22], x[4][23], x[4][24]], [0, x[5][1], x[5][2], x[5][3], x[5][4], x[5][5], x[5][6], x[5][7], x[5][8], x[5][9], x[5][10], x[5][11], x[5][12], x[5][13], x[5][14], x[5][15], x[5][16], x[5][17], x[5][18], x[5][19], x[5][20], x[5][21], x[5][22], x[5][23], x[5][24]], [0, x[6][1], x[6][2], x[6][3], x[6][4], x[6][5], x[6][6], x[6][7], x[6][8], x[6][9], x[6][10], x[6][11], x[6][12], x[6][13], x[6][14], x[6][15], x[6][16], x[6][17], x[6][18], x[6][19], x[6][20], x[6][21], x[6][22], x[6][23], x[6][24]], [0, x[7][1], x[7][2], x[7][3], x[7][4], x[7][5], x[7][6], x[7][7], x[7][8], x[7][9], x[7][10], x[7][11], x[7][12], x[7][13], x[7][14], x[7][15], x[7][16], x[7][17], x[7][18], x[7][19], x[7][20], x[7][21], x[7][22], x[7][23], x[7][24]], [0, x[8][1], x[8][2], x[8][3], x[8][4], x[8][5], x[8][6], x[8][7], x[8][8], x[8][9], x[8][10], x[8][11], x[8][12], x[8][13], x[8][14], x[8][15], x[8][16], x[8][17], x[8][18], x[8][19], x[8][20], x[8][21], x[8][22], x[8][23], x[8][24]], [0, x[9][1], x[9][2], x[9][3], x[9][4], x[9][5], x[9][6], x[9][7], x[9][8], x[9][9], x[9][10], x[9][11], x[9][12], x[9][13], x[9][14], x[9][15], x[9][16], x[9][17], x[9][18], x[9][19], x[9][20], x[9][21], x[9][22], x[9][23], x[9][24]], [0, x[10][1], x[10][2], x[10][3], x[10][4], x[10][5], x[10][6], x[10][7], x[10][8], x[10][9], x[10][10], x[10][11], x[10][12], x[10][13], x[10][14], x[10][15], x[10][16], x[10][17], x[10][18], x[10][19], x[10][20], x[10][21], x[10][22], x[10][23], x[10][24]]]\n"
     ]
    }
   ],
   "source": [
    "#Create Continous variables for each generator and each hour in a day with their lower and upper bounds\n",
    "\n",
    "generator_count = len(generators) - 1\n",
    "demand_count = len(demands)\n",
    "print(f\"generator count: {generator_count}\")\n",
    "print(f\"demand count: {demand_count}\")\n",
    "\n",
    "# Need a 10 (generators) * 24 (demands)\n",
    "# Set width (w) and height (h)\n",
    "w,h = generator_count + 1, demand_count + 1\n",
    "\n",
    "# Create array of width and height and populate as 0's to be overwritten later\n",
    "# Current Bug: List begins at element 0 and need it to start at 1...\n",
    "x = [[0 for i in range(h)] for j in range(w)]\n",
    "# print(x)  # Verify creation\n",
    "\n",
    "for i in range(1, generator_count + 1): \n",
    "    for j in range(1, demand_count + 1):\n",
    "        if generators[i][1] == \"hydro\" or generators[i][1] == \"gas\":\n",
    "            x[i][j] = solver.NumVar(float(generators[i][2]), float(generators[i][3]), f\"x[{i}][{j}]\")\n",
    "        elif generators[i][1] == \"solar\":\n",
    "            x[i][j] = solver.NumVar(float(generators[i][2]), float(generators[i][3])*float(solar_values[j-1][0]), f\"x[{i}][{j}]\")\n",
    "        elif generators[i][1] == \"solid\":\n",
    "            x[i][j] = solver.NumVar(float(generators[i][2]), float(generators[i][3]), f\"x[{i}][{j}]\")\n",
    "            \n",
    "print(x)"
   ]
  },
  {
   "cell_type": "markdown",
   "metadata": {},
   "source": [
    "### Constraints\n",
    "* The maximum supply from any Solar generator depends on the time of day. Relative to the generator’s maximum, it can achieve 50% from 6am to 10am, 100% from 11am to 3pm, 50% from 4pm to 6pm, and 0% otherwise.\n",
    "* The Solid fuel generators cannot change their amount of production from one hour to the next."
   ]
  },
  {
   "cell_type": "markdown",
   "metadata": {},
   "source": [
    "TODO: Display contraints here in LaTeX form"
   ]
  },
  {
   "cell_type": "code",
   "execution_count": 9,
   "metadata": {},
   "outputs": [
    {
     "name": "stdout",
     "output_type": "stream",
     "text": [
      "240\n"
     ]
    }
   ],
   "source": [
    "#Creating Contraints\n",
    "res = []\n",
    "#1. Energy generated per hour is equal to the per hour demand\n",
    "for i in range(1, generator_count + 1):\n",
    "    for j in range (1, demand_count + 1):\n",
    "        res.append(solver.Add(x[i][j] == int(demands[i][0]), name = \"Energy Consumption per Hour\"))\n",
    "#         solver.Add(solver.Sum(x[i][j]) == int(demands[i][0]),name=\"Energy Consumption per Hour\")\n",
    "        \n",
    "print(len(res))  # 240 contraints\n",
    "\n",
    "#for i in range (0, generator_count):\n",
    "#    for j in range(0, demand_count):\n",
    "#        print(x[i][j])\n",
    "        #solver.Add(solver.Sum(x[i][j]) == demands[i][0],name=\"Energy Consumption per Hour\")"
   ]
  },
  {
   "cell_type": "code",
   "execution_count": 20,
   "metadata": {},
   "outputs": [],
   "source": [
    "# total_demand = 1461\n",
    "\n",
    "# solid_hours_const = E + F + G\n",
    "# solid_cost_const = 4.4*E + 4.4*F + 4.4*G\n",
    "\n",
    "# # Solar Constraints\n",
    "# # 12am - 6am & 6pm - 12am, at this point of time the power will be zero\n",
    "# solver.Add(I == J == 0, name=\"solar zeros\")\n",
    "\n",
    "# # 6am - 10am -> 50% capacity\n",
    "# solver.Add(I <= 0.5*70)  # 50% of Max -> 70\n",
    "# solver.Add(J <= 0.5*20)  # 50% of Max -> 20\n",
    "\n",
    "# # 11am - 3pm -> 100% capacity\n",
    "# solver.Add(I <= 70)\n",
    "# solver.Add(J <= 20)\n",
    "\n",
    "# # All Generators\n",
    "# solver.Add(1.4*A + 1.4*B + 1.4*C + 1.4*D + 4.4*E + 4.4*F + 4.4*G\n",
    "#           + 9.1*H + 6.6*I + 6.6*J == total_demand, name=\"per hour constraint\")\n",
    "\n"
   ]
  },
  {
   "cell_type": "markdown",
   "metadata": {},
   "source": [
    "### Formaising Objective\n",
    "* Goal is to meet demand at each hour at the minimum cost, by choosing how much energy each generator should produce per hour\n",
    "* The demand from electricity customers varies by hour of the day. This is given in demand.csv. If we over-supply relative to demand, it can damage the electricity infrastructure. If we under-supply, then some customers can’t boil their kettles."
   ]
  },
  {
   "cell_type": "markdown",
   "metadata": {},
   "source": [
    "TODO: Display formalised objective here in LaTeX form"
   ]
  },
  {
   "cell_type": "code",
   "execution_count": 23,
   "metadata": {},
   "outputs": [
    {
     "name": "stdout",
     "output_type": "stream",
     "text": [
      "Problem is not feasible\n"
     ]
    }
   ],
   "source": [
    "# Create the objective function\n",
    "objective = solver.Objective()\n",
    "\n",
    "# Rows, Cols from excel\n",
    "# For 1 -> 10\n",
    "# Multiply cost * power for A -> J\n",
    "# Sum over all of this\n",
    "# This should yeild minimum\n",
    "costs = [] \n",
    "for index, row in generator_data.iterrows():\n",
    "    # row[4] -> cost; row[5]\n",
    "    costs.append(row[4])\n",
    "    \n",
    "objective.SetCoefficient(x[2][1], 15)\n",
    "objective.SetCoefficient(x[2][2], 10)\n",
    "objective.SetMinimization()\n",
    "\n",
    "# Solve...\n",
    "result = solver.Solve()\n",
    "if result == solver.OPTIMAL:\n",
    "    print_solution_and_sensitivity(solver, objective)\n",
    "else:\n",
    "    print(\"Problem is not feasible\")"
   ]
  }
 ],
 "metadata": {
  "kernelspec": {
   "display_name": "Python 3",
   "language": "python",
   "name": "python3"
  },
  "language_info": {
   "codemirror_mode": {
    "name": "ipython",
    "version": 3
   },
   "file_extension": ".py",
   "mimetype": "text/x-python",
   "name": "python",
   "nbconvert_exporter": "python",
   "pygments_lexer": "ipython3",
   "version": "3.8.5"
  }
 },
 "nbformat": 4,
 "nbformat_minor": 4
}
