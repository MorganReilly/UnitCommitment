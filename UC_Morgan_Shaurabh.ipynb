{
 "cells": [
  {
   "cell_type": "markdown",
   "metadata": {},
   "source": [
    "# Assignment 1 -- Unit Commitment\n",
    "## Optimisation\n",
    "### Morgan Reilly, Shaurabh Kumar Singh \n",
    "### 20235398, (student number Shurabh)"
   ]
  },
  {
   "cell_type": "code",
   "execution_count": 2,
   "metadata": {},
   "outputs": [],
   "source": [
    "from ortools.linear_solver import pywraplp"
   ]
  },
  {
   "cell_type": "code",
   "execution_count": 3,
   "metadata": {},
   "outputs": [],
   "source": [
    "# Instantiate Solver\n",
    "solver = pywraplp.Solver('Generator', pywraplp.Solver.GLOP_LINEAR_PROGRAMMING)"
   ]
  },
  {
   "cell_type": "markdown",
   "metadata": {},
   "source": [
    "### Decision Variables\n",
    "* In a small country there are 10 generators of four types: Hydroelectric, Solid fuel, Gas, Solar.\n",
    "* Each generator has a lower and upper bound on its production per hour (in MW/h). Between these bounds, production is not limited to discrete levels. \n",
    "* Each generator also has a cost for producing each MW, and produces a certain amount of CO2 per MW."
   ]
  },
  {
   "cell_type": "markdown",
   "metadata": {},
   "source": [
    "#### Optional Todo:\n",
    "* Read this value in from csv file in form of loop?"
   ]
  },
  {
   "cell_type": "code",
   "execution_count": 4,
   "metadata": {},
   "outputs": [],
   "source": [
    "# Create 10 variables with their lower and upper bounds\n",
    "A = solver.NumVar(10, 100, 'A')  # hyrdo1\n",
    "B = solver.NumVar(10, 80, 'B')  # hydro2\n",
    "C = solver.NumVar(10, 60, 'C')  # hydro3\n",
    "D = solver.NumVar(1, 10, 'D')  # hydro4\n",
    "E = solver.NumVar(100, 900, 'E')  # solid1\n",
    "F = solver.NumVar(100, 600, 'F')  # solid2\n",
    "G = solver.NumVar(10, 100, 'G')  # solid 3\n",
    "H = solver.NumVar(100, 400, 'H')  # gas1\n",
    "I = solver.NumVar(0, 70, 'I')  # solar1\n",
    "J = solver.NumVar(0, 20, 'J')  # solar2"
   ]
  },
  {
   "cell_type": "markdown",
   "metadata": {},
   "source": [
    "### Constraints\n",
    "* The maximum supply from any Solar generator depends on the time of day. Relative to the generator’s maximum, it can achieve 50% from 6am to 10am, 100% from 11am to 3pm, 50% from 4pm to 6pm, and 0% otherwise.\n",
    "* The Solid fuel generators cannot change their amount of production from one hour to the next."
   ]
  },
  {
   "cell_type": "code",
   "execution_count": 15,
   "metadata": {},
   "outputs": [
    {
     "data": {
      "text/plain": [
       "<ortools.linear_solver.pywraplp.Constraint; proxy of <Swig Object of type 'operations_research::MPConstraint *' at 0x7f9d0c5127b0> >"
      ]
     },
     "execution_count": 15,
     "metadata": {},
     "output_type": "execute_result"
    }
   ],
   "source": [
    "total_demand = 1461\n",
    "\n",
    "solid_hours_const = E + F + G\n",
    "solid_cost_const = 4.4*E + 4.4*F + 4.4*G\n",
    "\n",
    "# Solar Constraints\n",
    "# 12am - 6am & 6pm - 12am, at this point of time the power will be zero\n",
    "solver.Add(I == J == 0, name=\"solar zeros\")\n",
    "\n",
    "# 6am - 10am -> 50% capacity\n",
    "solver.Add(I <= 0.5*70)  # 50% of Max -> 70\n",
    "solver.Add(J <= 0.5*20)  # 50% of Max -> 20\n",
    "\n",
    "# 11am - 3pm -> 100% capacity\n",
    "solver.Add(I <= 70)\n",
    "solver.Add(J <= 20)\n",
    "\n",
    "# All Generators\n",
    "solver.Add(1.4*A + 1.4*B + 1.4*C + 1.4*D + 4.4*E + 4.4*F + 4.4*G\n",
    "          + 9.1*H + 6.6*I + 6.6*J == total_demand, name=\"per hour constraint\")\n",
    "\n"
   ]
  },
  {
   "cell_type": "markdown",
   "metadata": {},
   "source": [
    "### Formaising Objective\n",
    "* Goal is to meet demand at each hour at the minimum cost, by choosing how much energy each generator should produce per hour\n",
    "* The demand from electricity customers varies by hour of the day. This is given in demand.csv. If we over-supply relative to demand, it can damage the electricity infrastructure. If we under-supply, then some customers can’t boil their kettles."
   ]
  },
  {
   "cell_type": "code",
   "execution_count": 26,
   "metadata": {},
   "outputs": [
    {
     "data": {
      "text/html": [
       "<div>\n",
       "<style scoped>\n",
       "    .dataframe tbody tr th:only-of-type {\n",
       "        vertical-align: middle;\n",
       "    }\n",
       "\n",
       "    .dataframe tbody tr th {\n",
       "        vertical-align: top;\n",
       "    }\n",
       "\n",
       "    .dataframe thead th {\n",
       "        text-align: right;\n",
       "    }\n",
       "</style>\n",
       "<table border=\"1\" class=\"dataframe\">\n",
       "  <thead>\n",
       "    <tr style=\"text-align: right;\">\n",
       "      <th></th>\n",
       "      <th>lower_bound (MW)</th>\n",
       "      <th>upper_bound (MW)</th>\n",
       "      <th>cost/MW</th>\n",
       "      <th>CO2/MW</th>\n",
       "    </tr>\n",
       "  </thead>\n",
       "  <tbody>\n",
       "    <tr>\n",
       "      <th>count</th>\n",
       "      <td>10.000000</td>\n",
       "      <td>10.000000</td>\n",
       "      <td>10.000000</td>\n",
       "      <td>10.000000</td>\n",
       "    </tr>\n",
       "    <tr>\n",
       "      <th>mean</th>\n",
       "      <td>34.100000</td>\n",
       "      <td>234.000000</td>\n",
       "      <td>4.110000</td>\n",
       "      <td>0.304600</td>\n",
       "    </tr>\n",
       "    <tr>\n",
       "      <th>std</th>\n",
       "      <td>45.671411</td>\n",
       "      <td>301.448356</td>\n",
       "      <td>2.727005</td>\n",
       "      <td>0.384678</td>\n",
       "    </tr>\n",
       "    <tr>\n",
       "      <th>min</th>\n",
       "      <td>0.000000</td>\n",
       "      <td>10.000000</td>\n",
       "      <td>1.400000</td>\n",
       "      <td>0.000000</td>\n",
       "    </tr>\n",
       "    <tr>\n",
       "      <th>25%</th>\n",
       "      <td>3.250000</td>\n",
       "      <td>62.500000</td>\n",
       "      <td>1.400000</td>\n",
       "      <td>0.024000</td>\n",
       "    </tr>\n",
       "    <tr>\n",
       "      <th>50%</th>\n",
       "      <td>10.000000</td>\n",
       "      <td>90.000000</td>\n",
       "      <td>4.400000</td>\n",
       "      <td>0.024000</td>\n",
       "    </tr>\n",
       "    <tr>\n",
       "      <th>75%</th>\n",
       "      <td>77.500000</td>\n",
       "      <td>325.000000</td>\n",
       "      <td>6.050000</td>\n",
       "      <td>0.737500</td>\n",
       "    </tr>\n",
       "    <tr>\n",
       "      <th>max</th>\n",
       "      <td>100.000000</td>\n",
       "      <td>900.000000</td>\n",
       "      <td>9.100000</td>\n",
       "      <td>0.820000</td>\n",
       "    </tr>\n",
       "  </tbody>\n",
       "</table>\n",
       "</div>"
      ],
      "text/plain": [
       "       lower_bound (MW)  upper_bound (MW)    cost/MW     CO2/MW\n",
       "count         10.000000         10.000000  10.000000  10.000000\n",
       "mean          34.100000        234.000000   4.110000   0.304600\n",
       "std           45.671411        301.448356   2.727005   0.384678\n",
       "min            0.000000         10.000000   1.400000   0.000000\n",
       "25%            3.250000         62.500000   1.400000   0.024000\n",
       "50%           10.000000         90.000000   4.400000   0.024000\n",
       "75%           77.500000        325.000000   6.050000   0.737500\n",
       "max          100.000000        900.000000   9.100000   0.820000"
      ]
     },
     "execution_count": 26,
     "metadata": {},
     "output_type": "execute_result"
    }
   ],
   "source": [
    "import pandas as pd\n",
    "\n",
    "# Read in from generators.csv\n",
    "generator_data = pd.read_csv(\"./generator_info.csv\")\n",
    "\n",
    "# Verify file load\n",
    "generator_data.describe()"
   ]
  },
  {
   "cell_type": "code",
   "execution_count": 50,
   "metadata": {},
   "outputs": [
    {
     "name": "stdout",
     "output_type": "stream",
     "text": [
      "Problem is not feasible\n"
     ]
    }
   ],
   "source": [
    "# Create the objective function\n",
    "objective = solver.Objective()\n",
    "\n",
    "# Rows, Cols from excel\n",
    "# For 1 -> 10\n",
    "# Multiply cost * power for A -> J\n",
    "# Sum over all of this\n",
    "# This should yeild minimum\n",
    "costs = [] \n",
    "for index, row in generator_data.iterrows():\n",
    "    # row[4] -> cost; row[5]\n",
    "    costs.append(row[4])\n",
    "    \n",
    "objective.SetCoefficient(A, 15)\n",
    "objective.SetCoefficient(B, 10)\n",
    "objective.SetMinimization()\n",
    "\n",
    "# Solve...\n",
    "result = solver.Solve()\n",
    "if result == solver.OPTIMAL:\n",
    "    print_solution_and_sensitivity(solver, objective)\n",
    "else:\n",
    "    print(\"Problem is not feasible\")"
   ]
  }
 ],
 "metadata": {
  "kernelspec": {
   "display_name": "Python 3",
   "language": "python",
   "name": "python3"
  },
  "language_info": {
   "codemirror_mode": {
    "name": "ipython",
    "version": 3
   },
   "file_extension": ".py",
   "mimetype": "text/x-python",
   "name": "python",
   "nbconvert_exporter": "python",
   "pygments_lexer": "ipython3",
   "version": "3.8.5"
  }
 },
 "nbformat": 4,
 "nbformat_minor": 4
}
