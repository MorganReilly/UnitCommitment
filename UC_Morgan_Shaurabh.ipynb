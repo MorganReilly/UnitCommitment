{
 "cells": [
  {
   "cell_type": "markdown",
   "metadata": {},
   "source": [
    "# Assignment 1 -- Unit Commitment\n",
    "## Optimisation\n",
    "### Morgan Reilly, Shaurabh Kumar Singh \n",
    "### 20235398, (student number Shurabh)"
   ]
  },
  {
   "cell_type": "code",
   "execution_count": 1,
   "metadata": {},
   "outputs": [],
   "source": [
    "from ortools.linear_solver import pywraplp"
   ]
  },
  {
   "cell_type": "code",
   "execution_count": 2,
   "metadata": {},
   "outputs": [],
   "source": [
    "# Instantiate Solver\n",
    "solver = pywraplp.Solver('Generator', pywraplp.Solver.GLOP_LINEAR_PROGRAMMING)"
   ]
  },
  {
   "cell_type": "markdown",
   "metadata": {},
   "source": [
    "### Decision Variables\n",
    "* In a small country there are 10 generators of four types: Hydroelectric, Solid fuel, Gas, Solar.\n",
    "* Each generator has a lower and upper bound on its production per hour (in MW/h). Between these bounds, production is not limited to discrete levels. \n",
    "* Each generator also has a cost for producing each MW, and produces a certain amount of CO2 per MW."
   ]
  },
  {
   "cell_type": "markdown",
   "metadata": {},
   "source": [
    "#### Optional Todo:\n",
    "* Read this value in from csv file in form of loop?"
   ]
  },
  {
   "cell_type": "code",
   "execution_count": 7,
   "metadata": {},
   "outputs": [],
   "source": [
    "# Create 10 variables with their lower and upper bounds\n",
    "A = solver.NumVar(10, 100, 'A')  # hyrdo1\n",
    "B = solver.NumVar(10, 80, 'B')  # hydro2\n",
    "C = solver.NumVar(10, 60, 'C')  # hydro3\n",
    "D = solver.NumVar(1, 10, 'D')  # hydro4\n",
    "E = solver.NumVar(100, 900, 'E')  # solid1\n",
    "F = solver.NumVar(100, 600, 'F')  # solid2\n",
    "G = solver.NumVar(10, 100, 'G')  # solid 3\n",
    "H = solver.NumVar(100, 400, 'H')  # gas1\n",
    "I = solver.NumVar(0, 70, 'I')  # solar1\n",
    "J = solver.NumVar(0, 20, 'J')  # solar2"
   ]
  },
  {
   "cell_type": "markdown",
   "metadata": {},
   "source": [
    "### Formaising Objective\n",
    "* Goal is to meet demand at each hour at the minimum cost, by choosing how much energy each generator should produce per hour\n",
    "* The demand from electricity customers varies by hour of the day. This is given in demand.csv. If we over-supply relative to demand, it can damage the electricity infrastructure. If we under-supply, then some customers can’t boil their kettles."
   ]
  },
  {
   "cell_type": "markdown",
   "metadata": {},
   "source": [
    "### Constraints\n",
    "* The maximum supply from any Solar generator depends on the time of day. Relative to the generator’s maximum, it can achieve 50% from 6am to 10am, 100% from 11am to 3pm, 50% from 4pm to 6pm, and 0% otherwise.\n",
    "* The Solid fuel generators cannot change their amount of production from one hour to the next."
   ]
  }
 ],
 "metadata": {
  "kernelspec": {
   "display_name": "Python 3",
   "language": "python",
   "name": "python3"
  },
  "language_info": {
   "codemirror_mode": {
    "name": "ipython",
    "version": 3
   },
   "file_extension": ".py",
   "mimetype": "text/x-python",
   "name": "python",
   "nbconvert_exporter": "python",
   "pygments_lexer": "ipython3",
   "version": "3.8.5"
  }
 },
 "nbformat": 4,
 "nbformat_minor": 4
}
