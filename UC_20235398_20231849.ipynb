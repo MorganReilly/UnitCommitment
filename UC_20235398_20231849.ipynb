{
 "cells": [
  {
   "cell_type": "markdown",
   "metadata": {},
   "source": [
    "# Optimisation - Unit Commitment\n",
    "## Assignment 1\n",
    "### Morgan Reilly (20235398), Shaurabh Kumar Singh (20231849)"
   ]
  },
  {
   "cell_type": "code",
   "execution_count": 1,
   "metadata": {},
   "outputs": [],
   "source": [
    "# Imports\n",
    "from ortools.linear_solver import pywraplp\n",
    "import matplotlib.pyplot as plt\n",
    "import pandas as pd\n",
    "import csv"
   ]
  },
  {
   "cell_type": "code",
   "execution_count": 2,
   "metadata": {},
   "outputs": [],
   "source": [
    "# Instantiate Solver\n",
    "solver = pywraplp.Solver('Generator', pywraplp.Solver.GLOP_LINEAR_PROGRAMMING)"
   ]
  },
  {
   "cell_type": "markdown",
   "metadata": {},
   "source": [
    "<!-- Variables -->\n",
    "$\\underline{\\textbf{Variables}}$\n",
    "<br><br>\n",
    "$x$ -> $x^{H} = generators$ \n",
    "<br>\n",
    "$y$ -> $y^{H} = hour$\n",
    "<br><br>\n",
    "$A_{y} = $ Energy produced by Hydro Generator $A$ in $y^{h}$ hours<br>\n",
    "$B_{y} = $ Energy produced by Hydro Generator $B$ in $y^{h}$ hours<br>\n",
    "$C_{y} = $ Energy produced by Hydro Generator $C$ in $y^{h}$ hours<br>\n",
    "$D_{y} = $ Energy produced by Hydro Generator $D$ in $y^{h}$ hours<br>\n",
    "$E_{y} = $ Energy produced by Solid Generator $E$ in $y^{h}$ hours<br>\n",
    "$F_{y} = $ Energy produced by Solid Generator $F$ in $y^{h}$ hours<br>\n",
    "$G_{y} = $ Energy produced by Solid Generator $G$ in $y^{h}$ hours<br>\n",
    "$H_{y} = $ Energy produced by Gas Generator $H$ in $y^{h}$ hours<br>\n",
    "$I_{y} = $ Energy produced by Solar Generator $I$ in $y^{h}$ hours<br>\n",
    "$J_{y} = $ Energy produced by Solar Generator $J$ in $y^{h}$ hours<br>\n",
    "\n",
    "<!-- Constraints -->\n",
    "$\\underline{\\textbf{Constraints}}$\n",
    "<br><br>\n",
    "$ \\sum_{i=1}^{10} P_{i}\\times C_{i} = Demand[j] $ \n",
    "<br><br>\n",
    "&nbsp;&nbsp;&nbsp;&nbsp; $ where:$\n",
    "* ${i} = A, B, C,..., J$ -> $Generators$\n",
    "* ${j} = 1, 2, 3,..., 24$ -> $Hours$\n",
    "* $P = P_{1},..., P_{10}$ -> $Power$\n",
    "* $C = C_{1},..., C_{10}$ -> $Cost$\n",
    "* $T = T_{1},..., T_{24}$ -> $Time$\n",
    "\n",
    "<br>\n",
    "$Non-Solar$ $Generators:$<br><br>&nbsp;&nbsp;&nbsp;&nbsp;\n",
    "$Lower$ $Bound[i] \\leqslant E_{i,j} \\leqslant Upper$ $Bound[i]$\n",
    "<br><br>\n",
    "$Solar$ $Generators:$<br><br>&nbsp;&nbsp;&nbsp;&nbsp;\n",
    "$Lower$ $Bound[i] \\leqslant E_{i,j} \\leqslant Upper$ $Bound[i]\\times Solar$ $Curve[j]$\n",
    "\n",
    "<!-- Objective Function -->\n",
    "$\\underline{\\textbf{Objective Function}}$\n",
    "<br><br>\n",
    "$Minimise$&nbsp;$Cost:$ <br><br>&nbsp;&nbsp;&nbsp;&nbsp;\n",
    "$ \\sum_{i=A}^{J} (E_{i,j}\\times C_{i})$&nbsp;&nbsp;&nbsp;$\\forall$ &nbsp; ${[j = 1,...,24]} $\n",
    "\n",
    "<br><br>\n",
    "$ \\int_{10}^{100} \\! A\\times{1.4} + \n",
    "    \\int_{10}^{80} \\! B\\times{1.4} +\n",
    "    \\int_{10}^{60} \\! C\\times{1.4} +\n",
    "    \\int_{1}^{10} \\! D\\times{1.4} +\n",
    "    \\int_{100}^{900} \\! E\\times{4.4} +\n",
    "    \\int_{100}^{600} \\! F\\times{4.4} +\n",
    "    \\int_{10}^{100} \\! G\\times{4.4} +\n",
    "    \\int_{100}^{400} \\! H\\times{9.1} +\n",
    "    \\int_{0}^{70} \\! I\\times{6.6} +\n",
    "    \\int_{0}^{20} \\! J\\times{6.6} \\leqslant Minimum\n",
    "$ <br>"
   ]
  },
  {
   "cell_type": "markdown",
   "metadata": {},
   "source": [
    "### Decision Variables\n",
    "* In a small country there are 10 generators of four types: Hydroelectric, Solid fuel, Gas, Solar.\n",
    "* Each generator has a lower and upper bound on its production per hour (in MW/h). Between these bounds, production is not limited to discrete levels. \n",
    "* Each generator also has a cost for producing each MW, and produces a certain amount of CO2 per MW."
   ]
  },
  {
   "cell_type": "code",
   "execution_count": 3,
   "metadata": {},
   "outputs": [
    {
     "data": {
      "text/html": [
       "<div>\n",
       "<style scoped>\n",
       "    .dataframe tbody tr th:only-of-type {\n",
       "        vertical-align: middle;\n",
       "    }\n",
       "\n",
       "    .dataframe tbody tr th {\n",
       "        vertical-align: top;\n",
       "    }\n",
       "\n",
       "    .dataframe thead th {\n",
       "        text-align: right;\n",
       "    }\n",
       "</style>\n",
       "<table border=\"1\" class=\"dataframe\">\n",
       "  <thead>\n",
       "    <tr style=\"text-align: right;\">\n",
       "      <th></th>\n",
       "      <th>name</th>\n",
       "      <th>type</th>\n",
       "      <th>lower_bound (MW)</th>\n",
       "      <th>upper_bound (MW)</th>\n",
       "      <th>cost/MW</th>\n",
       "      <th>CO2/MW</th>\n",
       "    </tr>\n",
       "  </thead>\n",
       "  <tbody>\n",
       "    <tr>\n",
       "      <th>0</th>\n",
       "      <td>A</td>\n",
       "      <td>hydro</td>\n",
       "      <td>10</td>\n",
       "      <td>100</td>\n",
       "      <td>1.4</td>\n",
       "      <td>0.024</td>\n",
       "    </tr>\n",
       "    <tr>\n",
       "      <th>1</th>\n",
       "      <td>B</td>\n",
       "      <td>hydro</td>\n",
       "      <td>10</td>\n",
       "      <td>80</td>\n",
       "      <td>1.4</td>\n",
       "      <td>0.024</td>\n",
       "    </tr>\n",
       "    <tr>\n",
       "      <th>2</th>\n",
       "      <td>C</td>\n",
       "      <td>hydro</td>\n",
       "      <td>10</td>\n",
       "      <td>60</td>\n",
       "      <td>1.4</td>\n",
       "      <td>0.024</td>\n",
       "    </tr>\n",
       "    <tr>\n",
       "      <th>3</th>\n",
       "      <td>D</td>\n",
       "      <td>hydro</td>\n",
       "      <td>1</td>\n",
       "      <td>10</td>\n",
       "      <td>1.4</td>\n",
       "      <td>0.024</td>\n",
       "    </tr>\n",
       "    <tr>\n",
       "      <th>4</th>\n",
       "      <td>E</td>\n",
       "      <td>solid</td>\n",
       "      <td>100</td>\n",
       "      <td>900</td>\n",
       "      <td>4.4</td>\n",
       "      <td>0.820</td>\n",
       "    </tr>\n",
       "  </tbody>\n",
       "</table>\n",
       "</div>"
      ],
      "text/plain": [
       "  name   type  lower_bound (MW)  upper_bound (MW)  cost/MW  CO2/MW\n",
       "0    A  hydro                10               100      1.4   0.024\n",
       "1    B  hydro                10                80      1.4   0.024\n",
       "2    C  hydro                10                60      1.4   0.024\n",
       "3    D  hydro                 1                10      1.4   0.024\n",
       "4    E  solid               100               900      4.4   0.820"
      ]
     },
     "execution_count": 3,
     "metadata": {},
     "output_type": "execute_result"
    }
   ],
   "source": [
    "#Ingest the Input\n",
    "generators = pd.read_csv('generator_info.csv')\n",
    "generators.head()"
   ]
  },
  {
   "cell_type": "code",
   "execution_count": 4,
   "metadata": {},
   "outputs": [
    {
     "name": "stdout",
     "output_type": "stream",
     "text": [
      "Lower Bounds:  [10, 10, 10, 1, 100, 100, 10, 100, 0, 0]\n",
      "Upper Bounds:  [100, 80, 60, 10, 900, 600, 100, 400, 70, 20]\n",
      "Costs:  [1.4, 1.4, 1.4, 1.4, 4.4, 4.4, 4.4, 9.1, 6.6, 6.6]\n"
     ]
    }
   ],
   "source": [
    "generators.columns = [\"name\",\"type\",\"lower_bound (MW)\",\"upper_bound (MW)\", \"cost/MW\", \"CO2/MW\"]\n",
    "lower_bound = generators[\"lower_bound (MW)\"].values.tolist()\n",
    "upper_bound = generators[\"upper_bound (MW)\"].values.tolist()\n",
    "cost = generators[\"cost/MW\"].values.tolist()\n",
    "print(\"Lower Bounds: \", lower_bound)\n",
    "print(\"Upper Bounds: \", upper_bound)\n",
    "print(\"Costs: \", cost)"
   ]
  },
  {
   "cell_type": "code",
   "execution_count": 5,
   "metadata": {},
   "outputs": [
    {
     "data": {
      "text/html": [
       "<div>\n",
       "<style scoped>\n",
       "    .dataframe tbody tr th:only-of-type {\n",
       "        vertical-align: middle;\n",
       "    }\n",
       "\n",
       "    .dataframe tbody tr th {\n",
       "        vertical-align: top;\n",
       "    }\n",
       "\n",
       "    .dataframe thead th {\n",
       "        text-align: right;\n",
       "    }\n",
       "</style>\n",
       "<table border=\"1\" class=\"dataframe\">\n",
       "  <thead>\n",
       "    <tr style=\"text-align: right;\">\n",
       "      <th></th>\n",
       "      <th>mw</th>\n",
       "    </tr>\n",
       "  </thead>\n",
       "  <tbody>\n",
       "    <tr>\n",
       "      <th>0</th>\n",
       "      <td>1461</td>\n",
       "    </tr>\n",
       "    <tr>\n",
       "      <th>1</th>\n",
       "      <td>1446</td>\n",
       "    </tr>\n",
       "    <tr>\n",
       "      <th>2</th>\n",
       "      <td>1446</td>\n",
       "    </tr>\n",
       "    <tr>\n",
       "      <th>3</th>\n",
       "      <td>1438</td>\n",
       "    </tr>\n",
       "    <tr>\n",
       "      <th>4</th>\n",
       "      <td>1425</td>\n",
       "    </tr>\n",
       "  </tbody>\n",
       "</table>\n",
       "</div>"
      ],
      "text/plain": [
       "     mw\n",
       "0  1461\n",
       "1  1446\n",
       "2  1446\n",
       "3  1438\n",
       "4  1425"
      ]
     },
     "execution_count": 5,
     "metadata": {},
     "output_type": "execute_result"
    }
   ],
   "source": [
    "#Read the Demand.csv file\n",
    "demand_df = pd.read_csv('demand.csv', header=None, names=['mw'])\n",
    "demand_df.head()"
   ]
  },
  {
   "cell_type": "code",
   "execution_count": 6,
   "metadata": {
    "scrolled": true
   },
   "outputs": [
    {
     "data": {
      "text/html": [
       "<div>\n",
       "<style scoped>\n",
       "    .dataframe tbody tr th:only-of-type {\n",
       "        vertical-align: middle;\n",
       "    }\n",
       "\n",
       "    .dataframe tbody tr th {\n",
       "        vertical-align: top;\n",
       "    }\n",
       "\n",
       "    .dataframe thead th {\n",
       "        text-align: right;\n",
       "    }\n",
       "</style>\n",
       "<table border=\"1\" class=\"dataframe\">\n",
       "  <thead>\n",
       "    <tr style=\"text-align: right;\">\n",
       "      <th></th>\n",
       "      <th>sw</th>\n",
       "    </tr>\n",
       "  </thead>\n",
       "  <tbody>\n",
       "    <tr>\n",
       "      <th>0</th>\n",
       "      <td>0.0</td>\n",
       "    </tr>\n",
       "    <tr>\n",
       "      <th>1</th>\n",
       "      <td>0.0</td>\n",
       "    </tr>\n",
       "    <tr>\n",
       "      <th>2</th>\n",
       "      <td>0.0</td>\n",
       "    </tr>\n",
       "    <tr>\n",
       "      <th>3</th>\n",
       "      <td>0.0</td>\n",
       "    </tr>\n",
       "    <tr>\n",
       "      <th>4</th>\n",
       "      <td>0.0</td>\n",
       "    </tr>\n",
       "  </tbody>\n",
       "</table>\n",
       "</div>"
      ],
      "text/plain": [
       "    sw\n",
       "0  0.0\n",
       "1  0.0\n",
       "2  0.0\n",
       "3  0.0\n",
       "4  0.0"
      ]
     },
     "execution_count": 6,
     "metadata": {},
     "output_type": "execute_result"
    }
   ],
   "source": [
    "#Read the Solar Curve.csv file\n",
    "solar_df = pd.read_csv('solar_curve.csv', header=None, names=['sw'])\n",
    "solar_df.head()"
   ]
  },
  {
   "cell_type": "markdown",
   "metadata": {},
   "source": [
    "### Constraints\n",
    "* The maximum supply from any Solar generator depends on the time of day. Relative to the generator’s maximum, it can achieve 50% from 6am to 10am, 100% from 11am to 3pm, 50% from 4pm to 6pm, and 0% otherwise.\n",
    "* The Solid fuel generators cannot change their amount of production from one hour to the next."
   ]
  },
  {
   "cell_type": "code",
   "execution_count": 7,
   "metadata": {
    "scrolled": true
   },
   "outputs": [],
   "source": [
    "#Create Continous variables for each generator and each hour in a day with their lower and upper bounds\n",
    "A = [solver.NumVar(lower_bound[0], upper_bound[0], f'A{i}') for i in range(0,24)]\n",
    "B = [solver.NumVar(lower_bound[1], upper_bound[1], f'B{i}') for i in range(0,24)]\n",
    "C = [solver.NumVar(lower_bound[2], upper_bound[2], f'C{i}') for i in range(0,24)]\n",
    "D = [solver.NumVar(lower_bound[3], upper_bound[3], f'D{i}') for i in range(0,24)]\n",
    "E = solver.NumVar(lower_bound[4], upper_bound[4], \"E\")\n",
    "F = solver.NumVar(lower_bound[5], upper_bound[5], \"F\")\n",
    "G = solver.NumVar(lower_bound[6], upper_bound[6], \"G\")\n",
    "H = [solver.NumVar(lower_bound[7], upper_bound[7], f'H{i}') for i in range(0,24)]\n",
    "I = [solver.NumVar(lower_bound[8], upper_bound[8]*solar_df['sw'][i], f'I{i}') for i in range(0,24)]\n",
    "J = [solver.NumVar(lower_bound[9], upper_bound[9]*solar_df['sw'][i], f'J{i}') for i in range(0,24)]"
   ]
  },
  {
   "cell_type": "code",
   "execution_count": 8,
   "metadata": {},
   "outputs": [],
   "source": [
    "#Creating Contraints\n",
    "#1. Energy generated per hour is equal to the per hour demand\n",
    "for i in range(0, 24):\n",
    "    solver.Add(A[i] + B[i] + C[i] + D[i] + E + F + G + H[i] + I[i] + J[i] == demand_df['mw'][i]) #for each hour\n",
    "    \n",
    "#print(solver.NumConstraints())"
   ]
  },
  {
   "cell_type": "markdown",
   "metadata": {},
   "source": [
    "### Formaising Objective\n",
    "* Goal is to meet demand at each hour at the minimum cost, by choosing how much energy each generator should produce per hour\n",
    "* The demand from electricity customers varies by hour of the day. This is given in demand.csv. If we over-supply relative to demand, it can damage the electricity infrastructure. If we under-supply, then some customers can’t boil their kettles."
   ]
  },
  {
   "cell_type": "code",
   "execution_count": 9,
   "metadata": {},
   "outputs": [],
   "source": [
    "#Objective\n",
    "objective = solver.Objective()\n",
    "\n",
    "# Time specific values\n",
    "for i in range(0, 24):\n",
    "    objective.SetCoefficient(A[i],cost[0])\n",
    "    objective.SetCoefficient(B[i],cost[1])\n",
    "    objective.SetCoefficient(C[i],cost[2])\n",
    "    objective.SetCoefficient(D[i],cost[3])\n",
    "    objective.SetCoefficient(H[i],cost[7])\n",
    "    objective.SetCoefficient(I[i],cost[8])\n",
    "    objective.SetCoefficient(J[i],cost[9])\n",
    "\n",
    "# Solid generator values -> 24 hours\n",
    "objective.SetCoefficient(E, cost[4] * 24)\n",
    "objective.SetCoefficient(F, cost[5] * 24)\n",
    "objective.SetCoefficient(G, cost[6] * 24)\n",
    "\n",
    "objective.SetMinimization()"
   ]
  },
  {
   "cell_type": "markdown",
   "metadata": {},
   "source": [
    "### Solve"
   ]
  },
  {
   "cell_type": "code",
   "execution_count": 10,
   "metadata": {
    "scrolled": true
   },
   "outputs": [
    {
     "name": "stdout",
     "output_type": "stream",
     "text": [
      "Objective value = 151518.00000000003\n"
     ]
    }
   ],
   "source": [
    "solver.Solve()\n",
    "print('Objective value =', objective.Value())\n",
    "\n",
    "# for v in solver.variables():\n",
    "#     print(v.name, v.solution_value())"
   ]
  },
  {
   "cell_type": "code",
   "execution_count": 18,
   "metadata": {},
   "outputs": [],
   "source": [
    "#Create list of Solution Variable\n",
    "sol_var = []\n",
    "for v in solver.variables(): sol_var.append(v.solution_value())\n",
    "\n",
    "# Set Generator lists\n",
    "A_list, B_list, C_list, D_list, E_list, F_list, G_list, H_list, I_list, J_list = [], [], [], [], [], [], [], [], [], []\n",
    "for i in range (0, 24): A_list.append(A[i].solution_value())\n",
    "\n",
    "# Generator lists of power generator per generator\n",
    "for i in range (0, 24): B_list.append(B[i].solution_value())\n",
    "for i in range (0, 24): C_list.append(C[i].solution_value())\n",
    "for i in range (0, 24): D_list.append(D[i].solution_value())    \n",
    "for i in range (0, 24): E_list.append(E.solution_value())\n",
    "for i in range (0, 24): F_list.append(F.solution_value())\n",
    "for i in range (0, 24): G_list.append(G.solution_value())\n",
    "for i in range (0, 24): H_list.append(H[i].solution_value())\n",
    "for i in range (0, 24): I_list.append(I[i].solution_value())\n",
    "for i in range (0, 24): J_list.append(J[i].solution_value())\n",
    "\n",
    "hours = []\n",
    "for i in range(1, 25): hours.append(i)"
   ]
  },
  {
   "cell_type": "code",
   "execution_count": 12,
   "metadata": {
    "scrolled": true
   },
   "outputs": [
    {
     "data": {
      "text/plain": [
       "<function matplotlib.pyplot.show(close=None, block=None)>"
      ]
     },
     "execution_count": 12,
     "metadata": {},
     "output_type": "execute_result"
    },
    {
     "data": {
      "image/png": "[encoded data removed]",
      "text/plain": [
       "<Figure size 432x288 with 1 Axes>"
      ]
     },
     "metadata": {
      "needs_background": "light"
     },
     "output_type": "display_data"
    }
   ],
   "source": [
    "plt.plot(hours, A_list, label='Generator A')\n",
    "plt.plot(hours, B_list, label='Generator B')\n",
    "plt.plot(hours, C_list, label='Generator C')\n",
    "plt.plot(hours, D_list, label='Generator D')\n",
    "plt.plot(hours, E_list, label='Generator E')\n",
    "plt.plot(hours, F_list, label='Generator F')\n",
    "plt.plot(hours, G_list, label='Generator G')\n",
    "plt.plot(hours, G_list, label='Generator H')\n",
    "plt.plot(hours, I_list, label='Generator I')\n",
    "plt.plot(hours, J_list, label='Generator J')\n",
    "plt.legend()\n",
    "plt.margins(0)\n",
    "plt.show"
   ]
  },
  {
   "cell_type": "markdown",
   "metadata": {},
   "source": [
    "### Interpretation\n",
    "\n",
    "* From our findings we see that by minimizing the cost the best objective value is 151518.00. This is using all generators from across 24 hours of the day. However if we only use 12 hours of production the objective function changes to 132649.80, resulting in a difference of: 18868.20\n",
    "* If we change the opitmisation function from minimum to maximum, and use all generators, then we see that the objective value changes from 151518.00 to 469518.00, resulting in a difference of: 318000.00\n",
    "* If we remove certain generators we see that the objective value also changes with respect to the minimum function.\n",
    "    * Removal of Hydro generators results in a change to the minimum to 143654.20, which is a difference of 7863.80\n",
    "    * Removal of Solid generators results in the a change to the minimum to 24995.6, which is a difference of 126522.40 \n",
    "    * Removal of Gas generators results in a change to the minimum to 98815.20, which is a difference of 52702.80\n",
    "    * Removal of Solar generators results in a change to the minimum to 148552.30, which is a difference of 2965.70\n",
    "    \n",
    "    From these results we can interperate that the Gas and Solid generators have quite a high impact on the minimum, and we can safely assume the same if the objective function was to maximise. We can also infer from this that the two most utilised generators were Solid and Gas"
   ]
  },
  {
   "cell_type": "markdown",
   "metadata": {},
   "source": [
    "![Overall Generation](img/PowerGeneration.png)"
   ]
  },
  {
   "cell_type": "markdown",
   "metadata": {},
   "source": [
    "![Overall Contribution](img/OveralContribution.png)"
   ]
  }
 ],
 "metadata": {
  "kernelspec": {
   "display_name": "Python 3",
   "language": "python",
   "name": "python3"
  },
  "language_info": {
   "codemirror_mode": {
    "name": "ipython",
    "version": 3
   },
   "file_extension": ".py",
   "mimetype": "text/x-python",
   "name": "python",
   "nbconvert_exporter": "python",
   "pygments_lexer": "ipython3",
   "version": "3.8.5"
  }
 },
 "nbformat": 4,
 "nbformat_minor": 4
}
